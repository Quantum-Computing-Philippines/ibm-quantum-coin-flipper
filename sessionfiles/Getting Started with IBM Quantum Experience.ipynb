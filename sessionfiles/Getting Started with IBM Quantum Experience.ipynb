{
 "cells": [
  {
   "cell_type": "markdown",
   "id": "51af947f-fd82-4b47-9c1f-0f2bbaef3831",
   "metadata": {},
   "source": [
    "## Import modules required from qiskit"
   ]
  },
  {
   "cell_type": "code",
   "execution_count": 1,
   "id": "a5524e3e-0edc-4a16-a106-ec1fb97f9326",
   "metadata": {},
   "outputs": [
    {
     "name": "stderr",
     "output_type": "stream",
     "text": [
      "<frozen importlib._bootstrap>:219: RuntimeWarning: scipy._lib.messagestream.MessageStream size changed, may indicate binary incompatibility. Expected 56 from C header, got 64 from PyObject\n"
     ]
    }
   ],
   "source": [
    "import numpy as np\n",
    "\n",
    "# Importing standard Qiskit libraries\n",
    "from qiskit import QuantumCircuit, IBMQ, execute, QuantumRegister, ClassicalRegister\n",
    "\n",
    "from qiskit.tools.jupyter import *\n",
    "from qiskit.visualization import *\n",
    "from ibm_quantum_widgets import *\n",
    "\n",
    "from qiskit.tools.monitor import job_monitor\n",
    "from qiskit.providers.ibmq import least_busy\n",
    "\n",
    "# Loading your IBM Quantum account(s)\n",
    "## \n",
    "provider = IBMQ.load_account()"
   ]
  },
  {
   "cell_type": "markdown",
   "id": "7b7f55a7-72c0-4c58-b3ef-50c7c854877c",
   "metadata": {},
   "source": [
    "## Create a simple circuit with a quantum register of  qubit and classical register of 1 bit. Add a hadamard gate on the first qubit. Then measure each qubit to the classical register."
   ]
  },
  {
   "cell_type": "code",
   "execution_count": 11,
   "id": "731fdfa3-2701-4e20-8a7c-6316ddcbc687",
   "metadata": {},
   "outputs": [
    {
     "data": {
      "text/plain": [
       "<qiskit.circuit.instructionset.InstructionSet at 0x7fece8189070>"
      ]
     },
     "execution_count": 11,
     "metadata": {},
     "output_type": "execute_result"
    }
   ],
   "source": [
    "# Create the register (quantum and classical)\n",
    "qin = QuantumRegister(1)\n",
    "cin = ClassicalRegister(1)\n",
    "# Create the quantum circuit\n",
    "qc = QuantumCircuit(qin,cin)\n",
    "# Create a hadamard gate\n",
    "qc.h(0)\n",
    "# Measure all qubits\n",
    "qc.measure(0,0)"
   ]
  },
  {
   "cell_type": "markdown",
   "id": "de6cb9b1-014c-4f40-a772-b922d5689091",
   "metadata": {},
   "source": [
    "## Draw the quantum circuit"
   ]
  },
  {
   "cell_type": "code",
   "execution_count": 12,
   "id": "66047b90-2698-4284-8f1a-4de8daeec451",
   "metadata": {},
   "outputs": [
    {
     "data": {
      "image/png": "[encoded data removed]",
      "text/plain": [
       "<Figure size 206.997x144.48 with 1 Axes>"
      ]
     },
     "execution_count": 12,
     "metadata": {},
     "output_type": "execute_result"
    }
   ],
   "source": [
    "qc.draw(output='mpl')"
   ]
  },
  {
   "cell_type": "markdown",
   "id": "dcc38838-792e-4b1f-9867-bf3eed7f7412",
   "metadata": {},
   "source": [
    "## Get a list of the quantum backends, separate them as follows:\n",
    "- Quantum Simulator\n",
    "- Least Busy Quantum Simulator\n",
    "- Real Quantum Computers\n",
    "- Least Busy Quantum Computer\n",
    "\n",
    "### Optional: you can use pprint to have formatted results"
   ]
  },
  {
   "cell_type": "code",
   "execution_count": 14,
   "id": "b3fbd424-5f33-403b-919b-93f0874cd199",
   "metadata": {},
   "outputs": [
    {
     "name": "stdout",
     "output_type": "stream",
     "text": [
      "All Quantum Simulators:\n",
      "[<IBMQSimulator('ibmq_qasm_simulator') from IBMQ(hub='ibm-q', group='open', project='main')>,\n",
      " <IBMQSimulator('simulator_statevector') from IBMQ(hub='ibm-q', group='open', project='main')>,\n",
      " <IBMQSimulator('simulator_mps') from IBMQ(hub='ibm-q', group='open', project='main')>,\n",
      " <IBMQSimulator('simulator_extended_stabilizer') from IBMQ(hub='ibm-q', group='open', project='main')>,\n",
      " <IBMQSimulator('simulator_stabilizer') from IBMQ(hub='ibm-q', group='open', project='main')>]\n",
      "\n",
      "\n",
      "Least Busy Quantum Simulator:\n",
      "<IBMQSimulator('ibmq_qasm_simulator') from IBMQ(hub='ibm-q', group='open', project='main')>\n",
      "\n",
      "\n",
      "List of all Quantum Computers\n",
      "[<IBMQBackend('ibmq_lima') from IBMQ(hub='ibm-q', group='open', project='main')>,\n",
      " <IBMQBackend('ibmq_belem') from IBMQ(hub='ibm-q', group='open', project='main')>,\n",
      " <IBMQBackend('ibmq_quito') from IBMQ(hub='ibm-q', group='open', project='main')>,\n",
      " <IBMQBackend('ibmq_manila') from IBMQ(hub='ibm-q', group='open', project='main')>,\n",
      " <IBMQBackend('ibm_nairobi') from IBMQ(hub='ibm-q', group='open', project='main')>,\n",
      " <IBMQBackend('ibm_oslo') from IBMQ(hub='ibm-q', group='open', project='main')>]\n",
      "\n",
      "\n",
      "Least Busy Quantum Computer\n",
      "<IBMQBackend('ibmq_belem') from IBMQ(hub='ibm-q', group='open', project='main')>\n",
      "\n",
      "\n"
     ]
    }
   ],
   "source": [
    "from pprint import pprint\n",
    "\n",
    "print(\"All Quantum Simulators:\")\n",
    "pprint(provider.backends(simulator=True))\n",
    "print(\"\\n\")\n",
    "\n",
    "print(\"Least Busy Quantum Simulator:\")\n",
    "pprint(least_busy(provider.backends(simulator=True)))\n",
    "print(\"\\n\")\n",
    "\n",
    "\n",
    "print(\"List of all Quantum Computers\")\n",
    "pprint(provider.backends(simulator=False))\n",
    "print(\"\\n\")\n",
    "\n",
    "print(\"Least Busy Quantum Computer\")\n",
    "pprint(least_busy(provider.backends(simulator=False)))\n",
    "print(\"\\n\")\n",
    "\n",
    "\n",
    "\n",
    "\n"
   ]
  },
  {
   "cell_type": "markdown",
   "id": "7baa9bd3-a745-4903-bf05-ff98d3bedaaa",
   "metadata": {},
   "source": [
    "## Create two backends: one for simulator and the second is for a quantum computer."
   ]
  },
  {
   "cell_type": "code",
   "execution_count": 16,
   "id": "81f41d89-f0b6-407a-a9a5-c3431c3e6626",
   "metadata": {},
   "outputs": [],
   "source": [
    "# Create two backends named: sim_backend and real_backend\n",
    "sim_backend = provider.get_backend('ibmq_qasm_simulator')\n",
    "real_backend = provider.get_backend('ibmq_belem')"
   ]
  },
  {
   "cell_type": "markdown",
   "id": "eb390453-5bef-4f98-86a4-d132f11c926b",
   "metadata": {},
   "source": [
    "## Run the circuit on both backends\n"
   ]
  },
  {
   "cell_type": "code",
   "execution_count": 20,
   "id": "4f1a198c-1b0f-4703-9eda-49248fc0e382",
   "metadata": {},
   "outputs": [
    {
     "name": "stdout",
     "output_type": "stream",
     "text": [
      "Job is running under id: 638f064e0c52a750640dfbd1\n",
      "Job Status: job has successfully run\n",
      " The result of the execution is: \n",
      "{'0': 502, '1': 522}\n",
      "\n",
      "\n",
      "\n",
      "Job is running under id: 638f0655004b547875532806\n",
      "Job Status: job has successfully run\n",
      " The result of the execution is: \n",
      "{'0': 510, '1': 514}\n"
     ]
    }
   ],
   "source": [
    "# Running on a quantum simulator\n",
    "sim_job = execute(qc, sim_backend, shots = 1024)\n",
    "\n",
    "# Monitor the status of the job\n",
    "print(f\"Job is running under id: {sim_job.job_id()}\") \n",
    "job_monitor(sim_job)\n",
    "\n",
    "# Get the result\n",
    "print(\" The result of the execution is: \")\n",
    "sim_result = sim_job.result()\n",
    "sim_counts = sim_result.get_counts(qc)\n",
    "print(sim_counts)\n",
    "\n",
    "\n",
    "\n",
    "\n",
    "\n",
    "## Print nice line\n",
    "print(\"\\n\\n\")\n",
    "\n",
    "\n",
    "\n",
    "\n",
    "\n",
    "\n",
    "# Run on a quantum computer\n",
    "real_job = execute(qc, real_backend, shots = 1024)\n",
    "\n",
    "# Monitor the status of the job\n",
    "print(f\"Job is running under id: {real_job.job_id()}\") \n",
    "job_monitor(real_job)\n",
    "\n",
    "# Get the result\n",
    "print(\" The result of the execution is: \")\n",
    "real_result = real_job.result()\n",
    "real_counts = real_result.get_counts(qc)\n",
    "print(real_counts)"
   ]
  },
  {
   "cell_type": "markdown",
   "id": "ab6e7ede-97cf-441c-87a8-15e695f5af0a",
   "metadata": {},
   "source": [
    "## Visualize the results for both the quantum simulator and the quantum computer"
   ]
  },
  {
   "cell_type": "code",
   "execution_count": 21,
   "id": "8bd775f4-a644-4c22-8d57-f10720cbbb1a",
   "metadata": {},
   "outputs": [
    {
     "data": {
      "image/png": "[encoded data removed]",
      "text/plain": [
       "<Figure size 504x360 with 1 Axes>"
      ]
     },
     "metadata": {},
     "output_type": "display_data"
    }
   ],
   "source": [
    "# Print the result on a quantum simulator\n",
    "display(plot_histogram(sim_counts))"
   ]
  },
  {
   "cell_type": "code",
   "execution_count": 22,
   "id": "b31400af-7c1e-412b-a01b-40b8308eb6cf",
   "metadata": {},
   "outputs": [
    {
     "data": {
      "image/png": "[encoded data removed]",
      "text/plain": [
       "<Figure size 504x360 with 1 Axes>"
      ]
     },
     "metadata": {},
     "output_type": "display_data"
    }
   ],
   "source": [
    "# Print the result on a quantum computer\n",
    "display(plot_histogram(real_counts))"
   ]
  },
  {
   "cell_type": "markdown",
   "id": "a48b8042-4252-46cf-a5ef-b50ac929518c",
   "metadata": {},
   "source": [
    "## Working with Qiskit Aer\n",
    "- This is useful if you don't have an access to the Internet\n",
    "## Let's try to work on our local IDE"
   ]
  }
 ],
 "metadata": {
  "kernelspec": {
   "display_name": "Python 3 (ipykernel)",
   "language": "python",
   "name": "python3"
  },
  "language_info": {
   "codemirror_mode": {
    "name": "ipython",
    "version": 3
   },
   "file_extension": ".py",
   "mimetype": "text/x-python",
   "name": "python",
   "nbconvert_exporter": "python",
   "pygments_lexer": "ipython3",
   "version": "3.8.13"
  },
  "widgets": {
   "application/vnd.jupyter.widget-state+json": {
    "state": {
     "0048278ca4e144168692e3d914f97afe": {
      "model_module": "@jupyter-widgets/controls",
      "model_module_version": "1.5.0",
      "model_name": "HTMLModel",
      "state": {
       "layout": "IPY_MODEL_cc21443b95944dd89d4184fd32270f41",
       "style": "IPY_MODEL_cb29c16c8ea94fc6bdde2fbbc5a9c2aa",
       "value": "ibmq_qasm_simulator"
      }
     },
     "0525026570ec40e080e970c1b86b1592": {
      "model_module": "@jupyter-widgets/base",
      "model_module_version": "1.2.0",
      "model_name": "LayoutModel",
      "state": {
       "overflow_x": "scroll"
      }
     },
     "0689c0dfbcdf4d2f863c1c4a88b2a8ef": {
      "model_module": "@jupyter-widgets/controls",
      "model_module_version": "1.5.0",
      "model_name": "HTMLModel",
      "state": {
       "layout": "IPY_MODEL_ef308dd6e9de4cb1a1a5269dba58a8be",
       "style": "IPY_MODEL_df74c94c818242ae86a886849e6fb242",
       "value": "<h5>Status</h5>"
      }
     },
     "0af029c23258482d9b7ab6a9370da0e2": {
      "model_module": "@jupyter-widgets/controls",
      "model_module_version": "1.5.0",
      "model_name": "ButtonStyleModel",
      "state": {
       "button_color": "white"
      }
     },
     "0de3dbfb56d9493a8b8fe9e2e93bbae7": {
      "model_module": "@jupyter-widgets/controls",
      "model_module_version": "1.5.0",
      "model_name": "HTMLModel",
      "state": {
       "layout": "IPY_MODEL_16db8705de984604ac060a5666abcd06",
       "style": "IPY_MODEL_6dc1805236074bd8bdc8204b85e425b8",
       "value": "<p style='font-family: IBM Plex Sans, Arial, Helvetica, sans-serif; font-size: 20px; font-weight: medium;'>Circuit Properties</p>"
      }
     },
     "0eabfce69c2e46e682aa37aecb86a062": {
      "model_module": "@jupyter-widgets/controls",
      "model_module_version": "1.5.0",
      "model_name": "ButtonModel",
      "state": {
       "icon": "close",
       "layout": "IPY_MODEL_c526c70d4909407e9341c283ec1bffff",
       "style": "IPY_MODEL_5499c94f4e9b45c99ddb424c44851bca"
      }
     },
     "0fa92cd008db4f49a8df676ba801f98c": {
      "model_module": "@jupyter-widgets/controls",
      "model_module_version": "1.5.0",
      "model_name": "ButtonModel",
      "state": {
       "icon": "close",
       "layout": "IPY_MODEL_d4704b7f55ed48db9ffbc8bebca3cf87",
       "style": "IPY_MODEL_4a5d3066dacb4272a97867d32ae0de48"
      }
     },
     "11a87c14432843a99fc28d7302650f31": {
      "model_module": "@jupyter-widgets/controls",
      "model_module_version": "1.5.0",
      "model_name": "HTMLModel",
      "state": {
       "layout": "IPY_MODEL_bb8c3ba04b96438a860cbf262a4db712",
       "style": "IPY_MODEL_7845081d7d4f4565b6061fd5acc5d0e1",
       "value": "<font style='color:#34BC6E'>DONE</font>"
      }
     },
     "13ad3c037ebd46bc9f9c3d9e6537c365": {
      "model_module": "@jupyter-widgets/base",
      "model_module_version": "1.2.0",
      "model_name": "LayoutModel",
      "state": {
       "max_width": "700px",
       "min_width": "700px"
      }
     },
     "13b3dbb944c4437d86eef55f99b55173": {
      "model_module": "@jupyter-widgets/controls",
      "model_module_version": "1.5.0",
      "model_name": "HBoxModel",
      "state": {
       "children": [
        "IPY_MODEL_1a42938ac64e463b90e138e51cd1c2df",
        "IPY_MODEL_2f0071b018014880af6508de2d014bb4",
        "IPY_MODEL_0689c0dfbcdf4d2f863c1c4a88b2a8ef",
        "IPY_MODEL_78dba8eca8c746f5bed5d87216444855",
        "IPY_MODEL_e8eff3fb4c7e4405a1bc038d1d6fd9d2"
       ],
       "layout": "IPY_MODEL_ad8d178c0c6b4c96a9efd4d078da4ebc"
      }
     },
     "1638f70f77f74e68ac76bd2206455405": {
      "model_module": "@jupyter-widgets/base",
      "model_module_version": "1.2.0",
      "model_name": "LayoutModel",
      "state": {
       "width": "70px"
      }
     },
     "16db8705de984604ac060a5666abcd06": {
      "model_module": "@jupyter-widgets/base",
      "model_module_version": "1.2.0",
      "model_name": "LayoutModel",
      "state": {
       "margin": "0px 0px 10px 0px"
      }
     },
     "1976153e5b0c4070aa409aed39981422": {
      "model_module": "@jupyter-widgets/controls",
      "model_module_version": "1.5.0",
      "model_name": "DescriptionStyleModel",
      "state": {
       "description_width": ""
      }
     },
     "1a42938ac64e463b90e138e51cd1c2df": {
      "model_module": "@jupyter-widgets/controls",
      "model_module_version": "1.5.0",
      "model_name": "HTMLModel",
      "state": {
       "layout": "IPY_MODEL_f11e6ae9680a41c69b98991267e39d1e",
       "style": "IPY_MODEL_ab7fb696749f4ef28fd9279d23a41126",
       "value": "<h5>Job ID</h5>"
      }
     },
     "1a5aba4075d74f0ca8d50c8ee00fc632": {
      "model_module": "@jupyter-widgets/controls",
      "model_module_version": "1.5.0",
      "model_name": "DescriptionStyleModel",
      "state": {
       "description_width": ""
      }
     },
     "1d026f0dee6442f489f73c2716224dd4": {
      "model_module": "@jupyter-widgets/controls",
      "model_module_version": "1.5.0",
      "model_name": "ButtonModel",
      "state": {
       "icon": "close",
       "layout": "IPY_MODEL_899e3ea99daa42a09f63d587f0a22741",
       "style": "IPY_MODEL_398506284f6147da979650ab4364379d"
      }
     },
     "1d3100184cba480bae413419d1ab02b3": {
      "model_module": "@jupyter-widgets/base",
      "model_module_version": "1.2.0",
      "model_name": "LayoutModel",
      "state": {
       "width": "145px"
      }
     },
     "2022d213e5a14f8c89e1da2ac9789e32": {
      "model_module": "@jupyter-widgets/controls",
      "model_module_version": "1.5.0",
      "model_name": "ButtonStyleModel",
      "state": {}
     },
     "2274170ebdc7485e89cb1cfd74045e4a": {
      "model_module": "@jupyter-widgets/controls",
      "model_module_version": "1.5.0",
      "model_name": "DescriptionStyleModel",
      "state": {
       "description_width": ""
      }
     },
     "29ab6b3bc8ee46019471b5cb368ae081": {
      "model_module": "@jupyter-widgets/controls",
      "model_module_version": "1.5.0",
      "model_name": "DescriptionStyleModel",
      "state": {
       "description_width": ""
      }
     },
     "2c04e12d56a64228bc4f37ed66906368": {
      "model_module": "@jupyter-widgets/controls",
      "model_module_version": "1.5.0",
      "model_name": "HBoxModel",
      "state": {
       "children": [
        "IPY_MODEL_0fa92cd008db4f49a8df676ba801f98c",
        "IPY_MODEL_da3e9ce39e1b40c39af4cf14497c2dc2",
        "IPY_MODEL_6bfaea786cc749f0930b4ec96c6c0c37",
        "IPY_MODEL_e1329d3248d64770bd1f7c7a7abc279b",
        "IPY_MODEL_837d8961bf4e4bccbb298844d9a09a72",
        "IPY_MODEL_59a91cacd77747c98cf8dd8451760d40"
       ],
       "layout": "IPY_MODEL_c46f8e01b5df4defa3aeaf1150baad74"
      }
     },
     "2e62d1c6b7ac47058d665c2356bf2bc8": {
      "model_module": "@jupyter-widgets/controls",
      "model_module_version": "1.5.0",
      "model_name": "HTMLModel",
      "state": {
       "layout": "IPY_MODEL_a53b1ae0e2734c75acc0fb50a9a05d83",
       "style": "IPY_MODEL_7e3c15d0007940a788790295c620a810",
       "value": "<font style='color:#34BC6E'>DONE</font>"
      }
     },
     "2ec76c73a8a14a9bb567ce787e220f98": {
      "model_module": "@jupyter-widgets/controls",
      "model_module_version": "1.5.0",
      "model_name": "DescriptionStyleModel",
      "state": {
       "description_width": ""
      }
     },
     "2f0071b018014880af6508de2d014bb4": {
      "model_module": "@jupyter-widgets/controls",
      "model_module_version": "1.5.0",
      "model_name": "HTMLModel",
      "state": {
       "layout": "IPY_MODEL_1d3100184cba480bae413419d1ab02b3",
       "style": "IPY_MODEL_a4749c25c2c94cd3b624461963fa1f5d",
       "value": "<h5>Backend</h5>"
      }
     },
     "32f537b1d0394cd1a4606d0bb773f57d": {
      "model_module": "@jupyter-widgets/base",
      "model_module_version": "1.2.0",
      "model_name": "LayoutModel",
      "state": {
       "max_width": "700px",
       "min_width": "700px"
      }
     },
     "3547409d8ce2435a903b23a07a0f4fa4": {
      "model_module": "@jupyter-widgets/controls",
      "model_module_version": "1.5.0",
      "model_name": "HTMLModel",
      "state": {
       "layout": "IPY_MODEL_9d8231b34c3244b490e8628f5fde01d8",
       "style": "IPY_MODEL_e68c8e5b002e4ec1a989b0188bafcf6f",
       "value": "<font style='color:#34BC6E'>DONE</font>"
      }
     },
     "366683c585bd42d0b26a685cdb062a02": {
      "model_module": "@jupyter-widgets/controls",
      "model_module_version": "1.5.0",
      "model_name": "HTMLModel",
      "state": {
       "layout": "IPY_MODEL_ae67e1d45fad4e6da909aa5b19c70133",
       "style": "IPY_MODEL_885693676d0d4e39bb64b89ffbd25a8f",
       "value": "-"
      }
     },
     "398506284f6147da979650ab4364379d": {
      "model_module": "@jupyter-widgets/controls",
      "model_module_version": "1.5.0",
      "model_name": "ButtonStyleModel",
      "state": {
       "button_color": "white"
      }
     },
     "39aaef55adfd4151a707cb0ffc01d442": {
      "model_module": "@jupyter-widgets/base",
      "model_module_version": "1.2.0",
      "model_name": "LayoutModel",
      "state": {
       "width": "190px"
      }
     },
     "39aedd5ff7aa4352b7064962c97e7bd7": {
      "model_module": "@jupyter-widgets/controls",
      "model_module_version": "1.5.0",
      "model_name": "DescriptionStyleModel",
      "state": {
       "description_width": ""
      }
     },
     "3bdf9eac4e06453e930a1e595b5897a1": {
      "model_module": "@jupyter-widgets/base",
      "model_module_version": "1.2.0",
      "model_name": "LayoutModel",
      "state": {
       "grid_area": "right",
       "padding": "0px 0px 0px 0px",
       "width": "70px"
      }
     },
     "3bff388cf12246eaaa3db98c3489bb7f": {
      "model_module": "@jupyter-widgets/base",
      "model_module_version": "1.2.0",
      "model_name": "LayoutModel",
      "state": {
       "width": "190px"
      }
     },
     "3e2d42782ec347c98db20c79561d6945": {
      "model_module": "@jupyter-widgets/controls",
      "model_module_version": "1.5.0",
      "model_name": "HBoxModel",
      "state": {
       "children": [
        "IPY_MODEL_d39b1e05e00842b68e3e4b1505bd125b",
        "IPY_MODEL_6e070ba78c8545ab8f14a04fa570aafc",
        "IPY_MODEL_9abc3c3c265c434dab62e9c8f03f7a76",
        "IPY_MODEL_11a87c14432843a99fc28d7302650f31",
        "IPY_MODEL_e44fd98e691e432faeb1c2fc293766ec",
        "IPY_MODEL_c664687217c1475facd978ee79a42af9"
       ],
       "layout": "IPY_MODEL_13ad3c037ebd46bc9f9c3d9e6537c365"
      }
     },
     "3e83b4365d1449c4a7a35911ba2b7dd2": {
      "model_module": "@jupyter-widgets/base",
      "model_module_version": "1.2.0",
      "model_name": "LayoutModel",
      "state": {
       "margin": "0px 5px 0px 0px",
       "width": "32px"
      }
     },
     "4215f48da0c346569e7e60e08dd28310": {
      "model_module": "@jupyter-widgets/controls",
      "model_module_version": "1.5.0",
      "model_name": "HTMLModel",
      "state": {
       "layout": "IPY_MODEL_0525026570ec40e080e970c1b86b1592",
       "style": "IPY_MODEL_ba2c55ee30b64b7191465f65cfe8a0a5",
       "value": "job has been cancelled"
      }
     },
     "45f6593641884e12b56f2a28fb8993b4": {
      "model_module": "@jupyter-widgets/base",
      "model_module_version": "1.2.0",
      "model_name": "LayoutModel",
      "state": {
       "overflow_x": "scroll"
      }
     },
     "4a5d3066dacb4272a97867d32ae0de48": {
      "model_module": "@jupyter-widgets/controls",
      "model_module_version": "1.5.0",
      "model_name": "ButtonStyleModel",
      "state": {
       "button_color": "white"
      }
     },
     "4f61038d99a14259b11496493de35628": {
      "model_module": "@jupyter-widgets/controls",
      "model_module_version": "1.5.0",
      "model_name": "HTMLModel",
      "state": {
       "layout": "IPY_MODEL_538b847c44c6498cbe197b877dcc9e46",
       "style": "IPY_MODEL_39aedd5ff7aa4352b7064962c97e7bd7",
       "value": "638f04b4f47ae756d2f56fa2"
      }
     },
     "538b847c44c6498cbe197b877dcc9e46": {
      "model_module": "@jupyter-widgets/base",
      "model_module_version": "1.2.0",
      "model_name": "LayoutModel",
      "state": {
       "width": "190px"
      }
     },
     "5499c94f4e9b45c99ddb424c44851bca": {
      "model_module": "@jupyter-widgets/controls",
      "model_module_version": "1.5.0",
      "model_name": "ButtonStyleModel",
      "state": {
       "button_color": "white"
      }
     },
     "58eb6a9fc3f844388578d4efe92fed2a": {
      "model_module": "@jupyter-widgets/base",
      "model_module_version": "1.2.0",
      "model_name": "LayoutModel",
      "state": {
       "margin": "0px 5px 0px 0px",
       "width": "32px"
      }
     },
     "59a91cacd77747c98cf8dd8451760d40": {
      "model_module": "@jupyter-widgets/controls",
      "model_module_version": "1.5.0",
      "model_name": "HTMLModel",
      "state": {
       "layout": "IPY_MODEL_b331eb7c4fcf48c1966d438f6102256a",
       "style": "IPY_MODEL_7b4c247195a64358bdeaf52d880cdd49",
       "value": "job has successfully run"
      }
     },
     "5e25d4c34ad141f18df14d566ca2e882": {
      "model_module": "@jupyter-widgets/controls",
      "model_module_version": "1.5.0",
      "model_name": "ButtonStyleModel",
      "state": {
       "button_color": "white"
      }
     },
     "5fdf0de5694249d7a4a2f9d56452ac24": {
      "model_module": "@jupyter-widgets/controls",
      "model_module_version": "1.5.0",
      "model_name": "ButtonStyleModel",
      "state": {
       "button_color": "white"
      }
     },
     "604016a0e8da4426892dbe23463ec07e": {
      "model_module": "@jupyter-widgets/base",
      "model_module_version": "1.2.0",
      "model_name": "LayoutModel",
      "state": {
       "width": "145px"
      }
     },
     "619de5d5ebc94abeb995cd6c750bc5e2": {
      "model_module": "@jupyter-widgets/controls",
      "model_module_version": "1.5.0",
      "model_name": "DescriptionStyleModel",
      "state": {
       "description_width": ""
      }
     },
     "622bd75ae3d54b71963d8ea014e22423": {
      "model_module": "@jupyter-widgets/base",
      "model_module_version": "1.2.0",
      "model_name": "LayoutModel",
      "state": {
       "max_width": "700px",
       "min_width": "700px"
      }
     },
     "637397dd634b4b0ea9a534730532b5f6": {
      "model_module": "@jupyter-widgets/controls",
      "model_module_version": "1.5.0",
      "model_name": "HBoxModel",
      "state": {
       "children": [
        "IPY_MODEL_1d026f0dee6442f489f73c2716224dd4",
        "IPY_MODEL_d3ce447f6b9f42e79853e34d100f2268",
        "IPY_MODEL_cec0fbdce7b64976a56f4520344baead",
        "IPY_MODEL_ee017813f5e14b84939e97ad4f69dacd",
        "IPY_MODEL_e1aa40b469f3417d8f8d27ad57f0d249",
        "IPY_MODEL_4215f48da0c346569e7e60e08dd28310"
       ],
       "layout": "IPY_MODEL_7b5eceda48454e789cb458c29e1f5b5d"
      }
     },
     "63a030790e3745d680f4598f03da391e": {
      "model_module": "@jupyter-widgets/controls",
      "model_module_version": "1.5.0",
      "model_name": "HTMLModel",
      "state": {
       "layout": "IPY_MODEL_b4eaa2941b724280ae19f940e85b12e4",
       "style": "IPY_MODEL_9bc1f58184c244a0a9682a67b99f26cf",
       "value": "-"
      }
     },
     "671a0de2f87a412a929f52c6f5627049": {
      "model_module": "@jupyter-widgets/base",
      "model_module_version": "1.2.0",
      "model_name": "LayoutModel",
      "state": {
       "width": "70px"
      }
     },
     "675bf85cae15476db1e788c5d2dd3d28": {
      "model_module": "@jupyter-widgets/base",
      "model_module_version": "1.2.0",
      "model_name": "LayoutModel",
      "state": {
       "width": "70px"
      }
     },
     "6bfaea786cc749f0930b4ec96c6c0c37": {
      "model_module": "@jupyter-widgets/controls",
      "model_module_version": "1.5.0",
      "model_name": "HTMLModel",
      "state": {
       "layout": "IPY_MODEL_ef9718d3c6a4456caceac0b1744679b3",
       "style": "IPY_MODEL_807fa02c7cd24a6ebf5f940c5f0ab9e7",
       "value": "ibmq_qasm_simulator"
      }
     },
     "6cd350b932d3419897f9b29832b9778d": {
      "model_module": "@jupyter-widgets/controls",
      "model_module_version": "1.5.0",
      "model_name": "HTMLModel",
      "state": {
       "layout": "IPY_MODEL_78cf876b266348d7ad2a556bd9fcf6ca",
       "style": "IPY_MODEL_8a402540c8ed454f91e1ae19d54cd6c9",
       "value": "job has successfully run"
      }
     },
     "6dc1805236074bd8bdc8204b85e425b8": {
      "model_module": "@jupyter-widgets/controls",
      "model_module_version": "1.5.0",
      "model_name": "DescriptionStyleModel",
      "state": {
       "description_width": ""
      }
     },
     "6e070ba78c8545ab8f14a04fa570aafc": {
      "model_module": "@jupyter-widgets/controls",
      "model_module_version": "1.5.0",
      "model_name": "HTMLModel",
      "state": {
       "layout": "IPY_MODEL_d0b9a896c86b4a74aa617f06ecd937d0",
       "style": "IPY_MODEL_f8f4f82a1a624c25b260b215eeeec15c",
       "value": "638f0655004b547875532806"
      }
     },
     "6edc894d525d4ad9bc830230edf0a27c": {
      "model_module": "@jupyter-widgets/controls",
      "model_module_version": "1.5.0",
      "model_name": "HTMLModel",
      "state": {
       "layout": "IPY_MODEL_e530744f649b465d88a5b9ff29aadbe9",
       "style": "IPY_MODEL_ce680074a2534766afd09f9045d2523c",
       "value": "<font style='color:#34BC6E'>DONE</font>"
      }
     },
     "706c3f6effbf478193317fa60814ce83": {
      "model_module": "@jupyter-widgets/controls",
      "model_module_version": "1.5.0",
      "model_name": "DescriptionStyleModel",
      "state": {
       "description_width": ""
      }
     },
     "7845081d7d4f4565b6061fd5acc5d0e1": {
      "model_module": "@jupyter-widgets/controls",
      "model_module_version": "1.5.0",
      "model_name": "DescriptionStyleModel",
      "state": {
       "description_width": ""
      }
     },
     "789bbef93eda45c3adff3563291a9e0c": {
      "model_module": "@jupyter-widgets/controls",
      "model_module_version": "1.5.0",
      "model_name": "ButtonModel",
      "state": {
       "icon": "close",
       "layout": "IPY_MODEL_ba477849811643eeaab33bee58bb4152",
       "style": "IPY_MODEL_5fdf0de5694249d7a4a2f9d56452ac24"
      }
     },
     "78cf876b266348d7ad2a556bd9fcf6ca": {
      "model_module": "@jupyter-widgets/base",
      "model_module_version": "1.2.0",
      "model_name": "LayoutModel",
      "state": {
       "overflow_x": "scroll"
      }
     },
     "78dba8eca8c746f5bed5d87216444855": {
      "model_module": "@jupyter-widgets/controls",
      "model_module_version": "1.5.0",
      "model_name": "HTMLModel",
      "state": {
       "layout": "IPY_MODEL_e359c415d4b64cb3a2d339417e6c93fd",
       "style": "IPY_MODEL_aa612f3eb5c449c0b0ab8b28ecf083f3",
       "value": "<h5>Queue</h5>"
      }
     },
     "795e20a0e9dc4cc2aba58422d21355c1": {
      "model_module": "@jupyter-widgets/controls",
      "model_module_version": "1.5.0",
      "model_name": "DescriptionStyleModel",
      "state": {
       "description_width": ""
      }
     },
     "7b4c247195a64358bdeaf52d880cdd49": {
      "model_module": "@jupyter-widgets/controls",
      "model_module_version": "1.5.0",
      "model_name": "DescriptionStyleModel",
      "state": {
       "description_width": ""
      }
     },
     "7b5eceda48454e789cb458c29e1f5b5d": {
      "model_module": "@jupyter-widgets/base",
      "model_module_version": "1.2.0",
      "model_name": "LayoutModel",
      "state": {
       "max_width": "700px",
       "min_width": "700px"
      }
     },
     "7e3c15d0007940a788790295c620a810": {
      "model_module": "@jupyter-widgets/controls",
      "model_module_version": "1.5.0",
      "model_name": "DescriptionStyleModel",
      "state": {
       "description_width": ""
      }
     },
     "807fa02c7cd24a6ebf5f940c5f0ab9e7": {
      "model_module": "@jupyter-widgets/controls",
      "model_module_version": "1.5.0",
      "model_name": "DescriptionStyleModel",
      "state": {
       "description_width": ""
      }
     },
     "837d8961bf4e4bccbb298844d9a09a72": {
      "model_module": "@jupyter-widgets/controls",
      "model_module_version": "1.5.0",
      "model_name": "HTMLModel",
      "state": {
       "layout": "IPY_MODEL_cef493997f504d3887ab4b451925ff31",
       "style": "IPY_MODEL_1a5aba4075d74f0ca8d50c8ee00fc632",
       "value": "-"
      }
     },
     "83a658b8840a41b1b0ca0d6f8c237da0": {
      "model_module": "@jupyter-widgets/controls",
      "model_module_version": "1.5.0",
      "model_name": "DescriptionStyleModel",
      "state": {
       "description_width": ""
      }
     },
     "858ba75e825f433a9784c1f41ea255c8": {
      "model_module": "@jupyter-widgets/controls",
      "model_module_version": "1.5.0",
      "model_name": "ButtonModel",
      "state": {
       "button_style": "primary",
       "description": "Clear",
       "layout": "IPY_MODEL_3bdf9eac4e06453e930a1e595b5897a1",
       "style": "IPY_MODEL_2022d213e5a14f8c89e1da2ac9789e32"
      }
     },
     "85c93c9376a744f79b60387b743f202a": {
      "model_module": "@jupyter-widgets/controls",
      "model_module_version": "1.5.0",
      "model_name": "HTMLModel",
      "state": {
       "layout": "IPY_MODEL_604016a0e8da4426892dbe23463ec07e",
       "style": "IPY_MODEL_da6d9729d46b41cab8739d571a75c778",
       "value": "ibmq_qasm_simulator"
      }
     },
     "885693676d0d4e39bb64b89ffbd25a8f": {
      "model_module": "@jupyter-widgets/controls",
      "model_module_version": "1.5.0",
      "model_name": "DescriptionStyleModel",
      "state": {
       "description_width": ""
      }
     },
     "899e3ea99daa42a09f63d587f0a22741": {
      "model_module": "@jupyter-widgets/base",
      "model_module_version": "1.2.0",
      "model_name": "LayoutModel",
      "state": {
       "margin": "0px 5px 0px 0px",
       "width": "32px"
      }
     },
     "8a402540c8ed454f91e1ae19d54cd6c9": {
      "model_module": "@jupyter-widgets/controls",
      "model_module_version": "1.5.0",
      "model_name": "DescriptionStyleModel",
      "state": {
       "description_width": ""
      }
     },
     "8c29a4cfd4dd498091a6341cfee374ef": {
      "model_module": "@jupyter-widgets/base",
      "model_module_version": "1.2.0",
      "model_name": "LayoutModel",
      "state": {
       "width": "145px"
      }
     },
     "8e20870f07c24252bbd070cc2cdda013": {
      "model_module": "@jupyter-widgets/controls",
      "model_module_version": "1.5.0",
      "model_name": "HTMLModel",
      "state": {
       "layout": "IPY_MODEL_671a0de2f87a412a929f52c6f5627049",
       "style": "IPY_MODEL_db9ad88fc318446aa9a46171419c2f32",
       "value": "-"
      }
     },
     "92dfe02b63124c75ad05cc91503cb492": {
      "model_module": "@jupyter-widgets/controls",
      "model_module_version": "1.5.0",
      "model_name": "HBoxModel",
      "state": {
       "children": [
        "IPY_MODEL_0eabfce69c2e46e682aa37aecb86a062",
        "IPY_MODEL_f6e19facdaf84ac7956b92904ebba230",
        "IPY_MODEL_85c93c9376a744f79b60387b743f202a",
        "IPY_MODEL_3547409d8ce2435a903b23a07a0f4fa4",
        "IPY_MODEL_63a030790e3745d680f4598f03da391e",
        "IPY_MODEL_b57ae8dc4d674196a576359f9347c297"
       ],
       "layout": "IPY_MODEL_622bd75ae3d54b71963d8ea014e22423"
      }
     },
     "959f3c9efb5d4dd38d70f32add8fce1b": {
      "model_module": "@jupyter-widgets/controls",
      "model_module_version": "1.5.0",
      "model_name": "HTMLModel",
      "state": {
       "layout": "IPY_MODEL_aac69ac404304a4ea2a510cfd8e6563f",
       "style": "IPY_MODEL_b960f577af9c4ec4b2f172b6099171f2",
       "value": "638f064e0c52a750640dfbd1"
      }
     },
     "9abc3c3c265c434dab62e9c8f03f7a76": {
      "model_module": "@jupyter-widgets/controls",
      "model_module_version": "1.5.0",
      "model_name": "HTMLModel",
      "state": {
       "layout": "IPY_MODEL_8c29a4cfd4dd498091a6341cfee374ef",
       "style": "IPY_MODEL_83a658b8840a41b1b0ca0d6f8c237da0",
       "value": "ibmq_belem"
      }
     },
     "9bc1f58184c244a0a9682a67b99f26cf": {
      "model_module": "@jupyter-widgets/controls",
      "model_module_version": "1.5.0",
      "model_name": "DescriptionStyleModel",
      "state": {
       "description_width": ""
      }
     },
     "9d8231b34c3244b490e8628f5fde01d8": {
      "model_module": "@jupyter-widgets/base",
      "model_module_version": "1.2.0",
      "model_name": "LayoutModel",
      "state": {
       "width": "95px"
      }
     },
     "9e713497028640a38bf6f7099fb8dc99": {
      "model_module": "@jupyter-widgets/base",
      "model_module_version": "1.2.0",
      "model_name": "LayoutModel",
      "state": {
       "width": "95px"
      }
     },
     "a4125732afed43faaa896110f9219803": {
      "model_module": "@jupyter-widgets/base",
      "model_module_version": "1.2.0",
      "model_name": "LayoutModel",
      "state": {
       "width": "145px"
      }
     },
     "a4749c25c2c94cd3b624461963fa1f5d": {
      "model_module": "@jupyter-widgets/controls",
      "model_module_version": "1.5.0",
      "model_name": "DescriptionStyleModel",
      "state": {
       "description_width": ""
      }
     },
     "a53b1ae0e2734c75acc0fb50a9a05d83": {
      "model_module": "@jupyter-widgets/base",
      "model_module_version": "1.2.0",
      "model_name": "LayoutModel",
      "state": {
       "width": "95px"
      }
     },
     "a74eb8376b6d4bf58acbcbfbb07bbae5": {
      "model_module": "@jupyter-widgets/controls",
      "model_module_version": "1.5.0",
      "model_name": "ButtonModel",
      "state": {
       "icon": "close",
       "layout": "IPY_MODEL_58eb6a9fc3f844388578d4efe92fed2a",
       "style": "IPY_MODEL_0af029c23258482d9b7ab6a9370da0e2"
      }
     },
     "a89f5bdaa27745abbd26873d5d0da09d": {
      "model_module": "@jupyter-widgets/base",
      "model_module_version": "1.2.0",
      "model_name": "LayoutModel",
      "state": {
       "grid_template_areas": "\n                                       \". . . . right \"\n                                        ",
       "grid_template_columns": "20% 20% 20% 20% 20%",
       "width": "100%"
      }
     },
     "aa612f3eb5c449c0b0ab8b28ecf083f3": {
      "model_module": "@jupyter-widgets/controls",
      "model_module_version": "1.5.0",
      "model_name": "DescriptionStyleModel",
      "state": {
       "description_width": ""
      }
     },
     "aac69ac404304a4ea2a510cfd8e6563f": {
      "model_module": "@jupyter-widgets/base",
      "model_module_version": "1.2.0",
      "model_name": "LayoutModel",
      "state": {
       "width": "190px"
      }
     },
     "aacec71898de4d778c0f7140afd225c8": {
      "model_module": "@jupyter-widgets/base",
      "model_module_version": "1.2.0",
      "model_name": "LayoutModel",
      "state": {
       "overflow_x": "scroll"
      }
     },
     "ab7fb696749f4ef28fd9279d23a41126": {
      "model_module": "@jupyter-widgets/controls",
      "model_module_version": "1.5.0",
      "model_name": "DescriptionStyleModel",
      "state": {
       "description_width": ""
      }
     },
     "ad8d178c0c6b4c96a9efd4d078da4ebc": {
      "model_module": "@jupyter-widgets/base",
      "model_module_version": "1.2.0",
      "model_name": "LayoutModel",
      "state": {
       "margin": "0px 0px 0px 37px",
       "width": "600px"
      }
     },
     "ae67e1d45fad4e6da909aa5b19c70133": {
      "model_module": "@jupyter-widgets/base",
      "model_module_version": "1.2.0",
      "model_name": "LayoutModel",
      "state": {
       "width": "70px"
      }
     },
     "b1851dc2f6de4f1793662f78c88b2a7e": {
      "model_module": "@jupyter-widgets/base",
      "model_module_version": "1.2.0",
      "model_name": "LayoutModel",
      "state": {
       "width": "190px"
      }
     },
     "b331eb7c4fcf48c1966d438f6102256a": {
      "model_module": "@jupyter-widgets/base",
      "model_module_version": "1.2.0",
      "model_name": "LayoutModel",
      "state": {
       "overflow_x": "scroll"
      }
     },
     "b48e0c81e0914fbb82f2cc3c2279797b": {
      "model_module": "@jupyter-widgets/controls",
      "model_module_version": "1.5.0",
      "model_name": "HBoxModel",
      "state": {
       "children": [
        "IPY_MODEL_a74eb8376b6d4bf58acbcbfbb07bbae5",
        "IPY_MODEL_959f3c9efb5d4dd38d70f32add8fce1b",
        "IPY_MODEL_0048278ca4e144168692e3d914f97afe",
        "IPY_MODEL_6edc894d525d4ad9bc830230edf0a27c",
        "IPY_MODEL_8e20870f07c24252bbd070cc2cdda013",
        "IPY_MODEL_6cd350b932d3419897f9b29832b9778d"
       ],
       "layout": "IPY_MODEL_d331e3a378b04b0394f5837daefa2ee2"
      }
     },
     "b4e916b912a1476a82f9fa161d274fb5": {
      "model_module": "@jupyter-widgets/controls",
      "model_module_version": "1.5.0",
      "model_name": "DescriptionStyleModel",
      "state": {
       "description_width": ""
      }
     },
     "b4eaa2941b724280ae19f940e85b12e4": {
      "model_module": "@jupyter-widgets/base",
      "model_module_version": "1.2.0",
      "model_name": "LayoutModel",
      "state": {
       "width": "70px"
      }
     },
     "b57ae8dc4d674196a576359f9347c297": {
      "model_module": "@jupyter-widgets/controls",
      "model_module_version": "1.5.0",
      "model_name": "HTMLModel",
      "state": {
       "layout": "IPY_MODEL_aacec71898de4d778c0f7140afd225c8",
       "style": "IPY_MODEL_e6d3785ff51b48ba9345a914ef84a7c3",
       "value": "job has successfully run"
      }
     },
     "b960f577af9c4ec4b2f172b6099171f2": {
      "model_module": "@jupyter-widgets/controls",
      "model_module_version": "1.5.0",
      "model_name": "DescriptionStyleModel",
      "state": {
       "description_width": ""
      }
     },
     "ba2c55ee30b64b7191465f65cfe8a0a5": {
      "model_module": "@jupyter-widgets/controls",
      "model_module_version": "1.5.0",
      "model_name": "DescriptionStyleModel",
      "state": {
       "description_width": ""
      }
     },
     "ba477849811643eeaab33bee58bb4152": {
      "model_module": "@jupyter-widgets/base",
      "model_module_version": "1.2.0",
      "model_name": "LayoutModel",
      "state": {
       "margin": "0px 5px 0px 0px",
       "width": "32px"
      }
     },
     "baf97f63aa30435488c1f2867c0b7632": {
      "model_module": "@jupyter-widgets/controls",
      "model_module_version": "1.5.0",
      "model_name": "DescriptionStyleModel",
      "state": {
       "description_width": ""
      }
     },
     "bb8c3ba04b96438a860cbf262a4db712": {
      "model_module": "@jupyter-widgets/base",
      "model_module_version": "1.2.0",
      "model_name": "LayoutModel",
      "state": {
       "width": "95px"
      }
     },
     "c46f8e01b5df4defa3aeaf1150baad74": {
      "model_module": "@jupyter-widgets/base",
      "model_module_version": "1.2.0",
      "model_name": "LayoutModel",
      "state": {
       "max_width": "700px",
       "min_width": "700px"
      }
     },
     "c526c70d4909407e9341c283ec1bffff": {
      "model_module": "@jupyter-widgets/base",
      "model_module_version": "1.2.0",
      "model_name": "LayoutModel",
      "state": {
       "margin": "0px 5px 0px 0px",
       "width": "32px"
      }
     },
     "c621dedd2c4f4d50b01b75d764bd41f1": {
      "model_module": "@jupyter-widgets/controls",
      "model_module_version": "1.5.0",
      "model_name": "GridBoxModel",
      "state": {
       "children": [
        "IPY_MODEL_858ba75e825f433a9784c1f41ea255c8"
       ],
       "layout": "IPY_MODEL_a89f5bdaa27745abbd26873d5d0da09d"
      }
     },
     "c664687217c1475facd978ee79a42af9": {
      "model_module": "@jupyter-widgets/controls",
      "model_module_version": "1.5.0",
      "model_name": "HTMLModel",
      "state": {
       "layout": "IPY_MODEL_e2e5e279f9224966934a84630b544307",
       "style": "IPY_MODEL_29ab6b3bc8ee46019471b5cb368ae081",
       "value": "job has successfully run"
      }
     },
     "cb29c16c8ea94fc6bdde2fbbc5a9c2aa": {
      "model_module": "@jupyter-widgets/controls",
      "model_module_version": "1.5.0",
      "model_name": "DescriptionStyleModel",
      "state": {
       "description_width": ""
      }
     },
     "cc21443b95944dd89d4184fd32270f41": {
      "model_module": "@jupyter-widgets/base",
      "model_module_version": "1.2.0",
      "model_name": "LayoutModel",
      "state": {
       "width": "145px"
      }
     },
     "ce680074a2534766afd09f9045d2523c": {
      "model_module": "@jupyter-widgets/controls",
      "model_module_version": "1.5.0",
      "model_name": "DescriptionStyleModel",
      "state": {
       "description_width": ""
      }
     },
     "cec0fbdce7b64976a56f4520344baead": {
      "model_module": "@jupyter-widgets/controls",
      "model_module_version": "1.5.0",
      "model_name": "HTMLModel",
      "state": {
       "layout": "IPY_MODEL_eccd957632f147b1993037d7f2600ed0",
       "style": "IPY_MODEL_b4e916b912a1476a82f9fa161d274fb5",
       "value": "ibmq_belem"
      }
     },
     "cef493997f504d3887ab4b451925ff31": {
      "model_module": "@jupyter-widgets/base",
      "model_module_version": "1.2.0",
      "model_name": "LayoutModel",
      "state": {
       "width": "70px"
      }
     },
     "cff0e5428a324791ad424cc2f0c160ad": {
      "model_module": "@jupyter-widgets/controls",
      "model_module_version": "1.5.0",
      "model_name": "HTMLModel",
      "state": {
       "layout": "IPY_MODEL_45f6593641884e12b56f2a28fb8993b4",
       "style": "IPY_MODEL_2ec76c73a8a14a9bb567ce787e220f98",
       "value": "job has successfully run"
      }
     },
     "d0b9a896c86b4a74aa617f06ecd937d0": {
      "model_module": "@jupyter-widgets/base",
      "model_module_version": "1.2.0",
      "model_name": "LayoutModel",
      "state": {
       "width": "190px"
      }
     },
     "d2004e8f2d3941cfa1e4caa8e7a7c074": {
      "model_module": "@jupyter-widgets/controls",
      "model_module_version": "1.5.0",
      "model_name": "DescriptionStyleModel",
      "state": {
       "description_width": ""
      }
     },
     "d331e3a378b04b0394f5837daefa2ee2": {
      "model_module": "@jupyter-widgets/base",
      "model_module_version": "1.2.0",
      "model_name": "LayoutModel",
      "state": {
       "max_width": "700px",
       "min_width": "700px"
      }
     },
     "d39b1e05e00842b68e3e4b1505bd125b": {
      "model_module": "@jupyter-widgets/controls",
      "model_module_version": "1.5.0",
      "model_name": "ButtonModel",
      "state": {
       "icon": "close",
       "layout": "IPY_MODEL_3e83b4365d1449c4a7a35911ba2b7dd2",
       "style": "IPY_MODEL_5e25d4c34ad141f18df14d566ca2e882"
      }
     },
     "d3ce447f6b9f42e79853e34d100f2268": {
      "model_module": "@jupyter-widgets/controls",
      "model_module_version": "1.5.0",
      "model_name": "HTMLModel",
      "state": {
       "layout": "IPY_MODEL_3bff388cf12246eaaa3db98c3489bb7f",
       "style": "IPY_MODEL_1976153e5b0c4070aa409aed39981422",
       "value": "638f05f00c52a7644e0dfbc8"
      }
     },
     "d42caa93334a4eac864602e7c7240504": {
      "model_module": "@jupyter-widgets/controls",
      "model_module_version": "1.5.0",
      "model_name": "HTMLModel",
      "state": {
       "layout": "IPY_MODEL_a4125732afed43faaa896110f9219803",
       "style": "IPY_MODEL_d2004e8f2d3941cfa1e4caa8e7a7c074",
       "value": "ibmq_qasm_simulator"
      }
     },
     "d4704b7f55ed48db9ffbc8bebca3cf87": {
      "model_module": "@jupyter-widgets/base",
      "model_module_version": "1.2.0",
      "model_name": "LayoutModel",
      "state": {
       "margin": "0px 5px 0px 0px",
       "width": "32px"
      }
     },
     "d8062f0744b84bf287377d9643666d1d": {
      "model_module": "@jupyter-widgets/base",
      "model_module_version": "1.2.0",
      "model_name": "LayoutModel",
      "state": {}
     },
     "d989374065bf4045af09a55ee93c5a0d": {
      "model_module": "@jupyter-widgets/controls",
      "model_module_version": "1.5.0",
      "model_name": "DescriptionStyleModel",
      "state": {
       "description_width": ""
      }
     },
     "d9caa971a0f4441c8a0b581f1a54fe30": {
      "model_module": "@jupyter-widgets/controls",
      "model_module_version": "1.5.0",
      "model_name": "DescriptionStyleModel",
      "state": {
       "description_width": ""
      }
     },
     "da3e9ce39e1b40c39af4cf14497c2dc2": {
      "model_module": "@jupyter-widgets/controls",
      "model_module_version": "1.5.0",
      "model_name": "HTMLModel",
      "state": {
       "layout": "IPY_MODEL_39aaef55adfd4151a707cb0ffc01d442",
       "style": "IPY_MODEL_d989374065bf4045af09a55ee93c5a0d",
       "value": "638f05e90c52a709cb0dfbc7"
      }
     },
     "da6d9729d46b41cab8739d571a75c778": {
      "model_module": "@jupyter-widgets/controls",
      "model_module_version": "1.5.0",
      "model_name": "DescriptionStyleModel",
      "state": {
       "description_width": ""
      }
     },
     "db9ad88fc318446aa9a46171419c2f32": {
      "model_module": "@jupyter-widgets/controls",
      "model_module_version": "1.5.0",
      "model_name": "DescriptionStyleModel",
      "state": {
       "description_width": ""
      }
     },
     "df74c94c818242ae86a886849e6fb242": {
      "model_module": "@jupyter-widgets/controls",
      "model_module_version": "1.5.0",
      "model_name": "DescriptionStyleModel",
      "state": {
       "description_width": ""
      }
     },
     "e1329d3248d64770bd1f7c7a7abc279b": {
      "model_module": "@jupyter-widgets/controls",
      "model_module_version": "1.5.0",
      "model_name": "HTMLModel",
      "state": {
       "layout": "IPY_MODEL_e88e6dd8346243bb98b9284b49a2794a",
       "style": "IPY_MODEL_d9caa971a0f4441c8a0b581f1a54fe30",
       "value": "<font style='color:#34BC6E'>DONE</font>"
      }
     },
     "e1aa40b469f3417d8f8d27ad57f0d249": {
      "model_module": "@jupyter-widgets/controls",
      "model_module_version": "1.5.0",
      "model_name": "HTMLModel",
      "state": {
       "layout": "IPY_MODEL_675bf85cae15476db1e788c5d2dd3d28",
       "style": "IPY_MODEL_619de5d5ebc94abeb995cd6c750bc5e2",
       "value": "-"
      }
     },
     "e2e5e279f9224966934a84630b544307": {
      "model_module": "@jupyter-widgets/base",
      "model_module_version": "1.2.0",
      "model_name": "LayoutModel",
      "state": {
       "overflow_x": "scroll"
      }
     },
     "e359c415d4b64cb3a2d339417e6c93fd": {
      "model_module": "@jupyter-widgets/base",
      "model_module_version": "1.2.0",
      "model_name": "LayoutModel",
      "state": {
       "width": "70px"
      }
     },
     "e44fd98e691e432faeb1c2fc293766ec": {
      "model_module": "@jupyter-widgets/controls",
      "model_module_version": "1.5.0",
      "model_name": "HTMLModel",
      "state": {
       "layout": "IPY_MODEL_1638f70f77f74e68ac76bd2206455405",
       "style": "IPY_MODEL_baf97f63aa30435488c1f2867c0b7632",
       "value": "-"
      }
     },
     "e530744f649b465d88a5b9ff29aadbe9": {
      "model_module": "@jupyter-widgets/base",
      "model_module_version": "1.2.0",
      "model_name": "LayoutModel",
      "state": {
       "width": "95px"
      }
     },
     "e68c8e5b002e4ec1a989b0188bafcf6f": {
      "model_module": "@jupyter-widgets/controls",
      "model_module_version": "1.5.0",
      "model_name": "DescriptionStyleModel",
      "state": {
       "description_width": ""
      }
     },
     "e6d3785ff51b48ba9345a914ef84a7c3": {
      "model_module": "@jupyter-widgets/controls",
      "model_module_version": "1.5.0",
      "model_name": "DescriptionStyleModel",
      "state": {
       "description_width": ""
      }
     },
     "e88e6dd8346243bb98b9284b49a2794a": {
      "model_module": "@jupyter-widgets/base",
      "model_module_version": "1.2.0",
      "model_name": "LayoutModel",
      "state": {
       "width": "95px"
      }
     },
     "e8eff3fb4c7e4405a1bc038d1d6fd9d2": {
      "model_module": "@jupyter-widgets/controls",
      "model_module_version": "1.5.0",
      "model_name": "HTMLModel",
      "state": {
       "layout": "IPY_MODEL_d8062f0744b84bf287377d9643666d1d",
       "style": "IPY_MODEL_795e20a0e9dc4cc2aba58422d21355c1",
       "value": "<h5>Message</h5>"
      }
     },
     "eccd957632f147b1993037d7f2600ed0": {
      "model_module": "@jupyter-widgets/base",
      "model_module_version": "1.2.0",
      "model_name": "LayoutModel",
      "state": {
       "width": "145px"
      }
     },
     "ee017813f5e14b84939e97ad4f69dacd": {
      "model_module": "@jupyter-widgets/controls",
      "model_module_version": "1.5.0",
      "model_name": "HTMLModel",
      "state": {
       "layout": "IPY_MODEL_9e713497028640a38bf6f7099fb8dc99",
       "style": "IPY_MODEL_2274170ebdc7485e89cb1cfd74045e4a",
       "value": "<font style='color:#FFB000'>CANCELLED</font>"
      }
     },
     "ef308dd6e9de4cb1a1a5269dba58a8be": {
      "model_module": "@jupyter-widgets/base",
      "model_module_version": "1.2.0",
      "model_name": "LayoutModel",
      "state": {
       "width": "95px"
      }
     },
     "ef9718d3c6a4456caceac0b1744679b3": {
      "model_module": "@jupyter-widgets/base",
      "model_module_version": "1.2.0",
      "model_name": "LayoutModel",
      "state": {
       "width": "145px"
      }
     },
     "f11e6ae9680a41c69b98991267e39d1e": {
      "model_module": "@jupyter-widgets/base",
      "model_module_version": "1.2.0",
      "model_name": "LayoutModel",
      "state": {
       "width": "190px"
      }
     },
     "f6e19facdaf84ac7956b92904ebba230": {
      "model_module": "@jupyter-widgets/controls",
      "model_module_version": "1.5.0",
      "model_name": "HTMLModel",
      "state": {
       "layout": "IPY_MODEL_b1851dc2f6de4f1793662f78c88b2a7e",
       "style": "IPY_MODEL_706c3f6effbf478193317fa60814ce83",
       "value": "638f0504a1c6bb8857bdaa63"
      }
     },
     "f79c56293b1f4d11b3bf8052cb747344": {
      "model_module": "@jupyter-widgets/controls",
      "model_module_version": "1.5.0",
      "model_name": "HBoxModel",
      "state": {
       "children": [
        "IPY_MODEL_789bbef93eda45c3adff3563291a9e0c",
        "IPY_MODEL_4f61038d99a14259b11496493de35628",
        "IPY_MODEL_d42caa93334a4eac864602e7c7240504",
        "IPY_MODEL_2e62d1c6b7ac47058d665c2356bf2bc8",
        "IPY_MODEL_366683c585bd42d0b26a685cdb062a02",
        "IPY_MODEL_cff0e5428a324791ad424cc2f0c160ad"
       ],
       "layout": "IPY_MODEL_32f537b1d0394cd1a4606d0bb773f57d"
      }
     },
     "f8f4f82a1a624c25b260b215eeeec15c": {
      "model_module": "@jupyter-widgets/controls",
      "model_module_version": "1.5.0",
      "model_name": "DescriptionStyleModel",
      "state": {
       "description_width": ""
      }
     }
    },
    "version_major": 2,
    "version_minor": 0
   }
  }
 },
 "nbformat": 4,
 "nbformat_minor": 5
}
